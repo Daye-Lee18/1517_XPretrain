{
 "cells": [
  {
   "cell_type": "markdown",
   "metadata": {},
   "source": [
    "# 전처리 과정 설명\n",
    "\n",
    "[MSRVTT 데이터 설명]\n",
    "데이터 구성: 각 video는 대략 10~20초 사이의 영상이며, 20개의 captions(sentences)로 구성됨.\n",
    "\n",
    "1. Sentiment Analysis\n",
    "* Sentiment Analysis를 통해 한 개의 video에서 sentiment 정보가 존재하는지 판단. $\\rightarrow$ [nltk.sentiment.SentimentIntensityAnalyzer](https://www.nltk.org/api/nltk.sentiment.SentimentIntensityAnalyzer.html?highlight=sentimentintensity) 활용.\n",
    "* 판단 방식은 compound sentiment score가 0.6 이상이면 긍정(positive) 정보라고 판단하고, -0.6 이하면 부정(negative) 정보라고 판단.\n",
    "* 결과물: 7,010 개의 video에서 4,802 개의 데이터로 정제.\n",
    "\n",
    "2. Assigning Emotional Information\n",
    "* Video 정제 과정을 마친 후(1번 과정), 각 video에서 각 caption이 어떤 emotional 정보를 가지고 있는지 판단. $\\rightarrow$ [nrclex.NRCLex](https://pypi.org/project/NRCLex/) 활용.\n",
    "* NRCLex는 사전에 정의된 dictionary 기반 scoring 방식으로 문장에 존재하는 8개의 emotion 정보를 counting. 추가로 positive와 negative 정보도 counting.\n",
    "* 각 caption에 대해 \n",
    "* 해당 과정을 통해 총 11개의 추가 columns이 생성됨.\n",
    "\n",
    "\n"
   ]
  },
  {
   "cell_type": "code",
   "execution_count": 2,
   "metadata": {},
   "outputs": [],
   "source": [
    "import json\n",
    "import pandas as pd\n",
    "import numpy as np\n",
    "import matplotlib.pyplot as plt \n",
    "\n",
    "from tqdm import tqdm"
   ]
  },
  {
   "cell_type": "markdown",
   "metadata": {},
   "source": [
    "# Data Load"
   ]
  },
  {
   "cell_type": "code",
   "execution_count": 3,
   "metadata": {},
   "outputs": [],
   "source": [
    "# Load the data\n",
    "mrsvtt_train9k_dir = \"msrvtt_ret_train9k.json\"\n",
    "mrsvtt_test1k_dir = \"msrvtt_ret_test1k.json\"\n",
    "\n",
    "with open(mrsvtt_train9k_dir, 'r') as f:\n",
    "    mrsvtt_train9k_json = json.load(f)\n",
    "\n",
    "with open(mrsvtt_test1k_dir, 'r') as f:\n",
    "    mrsvtt_test1k_json = json.load(f)\n",
    "\n",
    "categories = [\n",
    "    \"music\",\n",
    "    \"people\",\n",
    "    \"gaming\",\n",
    "    \"sports/actions\",\n",
    "    \"news/events/politics\",\n",
    "    \"education\",\n",
    "    \"tv shows\",\n",
    "    \"movie/comedy\",\n",
    "    \"animation\",\n",
    "    \"vehicles/autos\",\n",
    "    \"howto\",\n",
    "    \"travel\",\n",
    "    \"science/technology\",\n",
    "    \"animals/pets\",\n",
    "    \"kids/family\",\n",
    "    \"documentary\",\n",
    "    \"food/drink\",\n",
    "    \"cooking\",\n",
    "    \"beauty/fashion\",\n",
    "    \"advertisement\"\n",
    "]\n"
   ]
  },
  {
   "cell_type": "code",
   "execution_count": 4,
   "metadata": {},
   "outputs": [
    {
     "name": "stdout",
     "output_type": "stream",
     "text": [
      "(180000, 4) (1000, 4)\n"
     ]
    }
   ],
   "source": [
    "# Annotation data\n",
    "train9k = pd.DataFrame(mrsvtt_train9k_json)\n",
    "test1k = pd.DataFrame(mrsvtt_test1k_json)\n",
    "train9k['video_id'] = train9k['video'].apply(lambda x: x.split('.')[0])\n",
    "test1k['video_id'] = test1k['video'].apply(lambda x: x.split('.')[0])\n",
    "print(train9k.shape, test1k.shape)"
   ]
  },
  {
   "cell_type": "code",
   "execution_count": 10,
   "metadata": {},
   "outputs": [
    {
     "data": {
      "text/html": [
       "<div>\n",
       "<style scoped>\n",
       "    .dataframe tbody tr th:only-of-type {\n",
       "        vertical-align: middle;\n",
       "    }\n",
       "\n",
       "    .dataframe tbody tr th {\n",
       "        vertical-align: top;\n",
       "    }\n",
       "\n",
       "    .dataframe thead th {\n",
       "        text-align: right;\n",
       "    }\n",
       "</style>\n",
       "<table border=\"1\" class=\"dataframe\">\n",
       "  <thead>\n",
       "    <tr style=\"text-align: right;\">\n",
       "      <th></th>\n",
       "      <th>video</th>\n",
       "      <th>caption</th>\n",
       "      <th>duration</th>\n",
       "      <th>video_id</th>\n",
       "    </tr>\n",
       "  </thead>\n",
       "  <tbody>\n",
       "    <tr>\n",
       "      <th>0</th>\n",
       "      <td>video9770.mp4</td>\n",
       "      <td>a person is connecting something to system</td>\n",
       "      <td>10.80</td>\n",
       "      <td>video9770</td>\n",
       "    </tr>\n",
       "    <tr>\n",
       "      <th>1</th>\n",
       "      <td>video9771.mp4</td>\n",
       "      <td>a little girl does gymnastics</td>\n",
       "      <td>13.78</td>\n",
       "      <td>video9771</td>\n",
       "    </tr>\n",
       "    <tr>\n",
       "      <th>2</th>\n",
       "      <td>video7020.mp4</td>\n",
       "      <td>a woman creating a fondant baby and flower</td>\n",
       "      <td>11.31</td>\n",
       "      <td>video7020</td>\n",
       "    </tr>\n",
       "    <tr>\n",
       "      <th>3</th>\n",
       "      <td>video9773.mp4</td>\n",
       "      <td>a boy plays grand theft auto 5</td>\n",
       "      <td>14.52</td>\n",
       "      <td>video9773</td>\n",
       "    </tr>\n",
       "    <tr>\n",
       "      <th>4</th>\n",
       "      <td>video7026.mp4</td>\n",
       "      <td>a man is giving a review on a vehicle</td>\n",
       "      <td>13.62</td>\n",
       "      <td>video7026</td>\n",
       "    </tr>\n",
       "  </tbody>\n",
       "</table>\n",
       "</div>"
      ],
      "text/plain": [
       "           video                                     caption  duration  \\\n",
       "0  video9770.mp4  a person is connecting something to system     10.80   \n",
       "1  video9771.mp4               a little girl does gymnastics     13.78   \n",
       "2  video7020.mp4  a woman creating a fondant baby and flower     11.31   \n",
       "3  video9773.mp4              a boy plays grand theft auto 5     14.52   \n",
       "4  video7026.mp4       a man is giving a review on a vehicle     13.62   \n",
       "\n",
       "    video_id  \n",
       "0  video9770  \n",
       "1  video9771  \n",
       "2  video7020  \n",
       "3  video9773  \n",
       "4  video7026  "
      ]
     },
     "execution_count": 10,
     "metadata": {},
     "output_type": "execute_result"
    }
   ],
   "source": [
    "test1k.head()"
   ]
  },
  {
   "cell_type": "code",
   "execution_count": 5,
   "metadata": {},
   "outputs": [
    {
     "name": "stdout",
     "output_type": "stream",
     "text": [
      "(9000, 2) (1000, 2)\n"
     ]
    }
   ],
   "source": [
    "merge_caption = lambda x: '. '.join(x)\n",
    "\n",
    "#  Group by each video_id\n",
    "train_video_text = train9k.groupby('video_id').aggregate('caption').apply(merge_caption)\n",
    "test_video_text = test1k.groupby('video_id').aggregate('caption').apply(merge_caption)\n",
    "train_video_text = pd.DataFrame(train_video_text).reset_index()\n",
    "test_video_text = pd.DataFrame(test_video_text).reset_index()\n",
    "print(train_video_text.shape, test_video_text.shape)"
   ]
  },
  {
   "cell_type": "code",
   "execution_count": 6,
   "metadata": {},
   "outputs": [
    {
     "data": {
      "text/html": [
       "<div>\n",
       "<style scoped>\n",
       "    .dataframe tbody tr th:only-of-type {\n",
       "        vertical-align: middle;\n",
       "    }\n",
       "\n",
       "    .dataframe tbody tr th {\n",
       "        vertical-align: top;\n",
       "    }\n",
       "\n",
       "    .dataframe thead th {\n",
       "        text-align: right;\n",
       "    }\n",
       "</style>\n",
       "<table border=\"1\" class=\"dataframe\">\n",
       "  <thead>\n",
       "    <tr style=\"text-align: right;\">\n",
       "      <th></th>\n",
       "      <th>video_id</th>\n",
       "      <th>caption</th>\n",
       "    </tr>\n",
       "  </thead>\n",
       "  <tbody>\n",
       "    <tr>\n",
       "      <th>0</th>\n",
       "      <td>video0</td>\n",
       "      <td>a car is shown. a group is dancing. a man driv...</td>\n",
       "    </tr>\n",
       "    <tr>\n",
       "      <th>1</th>\n",
       "      <td>video1</td>\n",
       "      <td>in a kitchen a woman adds different ingredient...</td>\n",
       "    </tr>\n",
       "    <tr>\n",
       "      <th>2</th>\n",
       "      <td>video10</td>\n",
       "      <td>a man holds two dogs. a man introducing he two...</td>\n",
       "    </tr>\n",
       "    <tr>\n",
       "      <th>3</th>\n",
       "      <td>video100</td>\n",
       "      <td>a basset hound sits outside a door. a breed do...</td>\n",
       "    </tr>\n",
       "    <tr>\n",
       "      <th>4</th>\n",
       "      <td>video1000</td>\n",
       "      <td>a woman is wearing a costume. a woman talking ...</td>\n",
       "    </tr>\n",
       "  </tbody>\n",
       "</table>\n",
       "</div>"
      ],
      "text/plain": [
       "    video_id                                            caption\n",
       "0     video0  a car is shown. a group is dancing. a man driv...\n",
       "1     video1  in a kitchen a woman adds different ingredient...\n",
       "2    video10  a man holds two dogs. a man introducing he two...\n",
       "3   video100  a basset hound sits outside a door. a breed do...\n",
       "4  video1000  a woman is wearing a costume. a woman talking ..."
      ]
     },
     "execution_count": 6,
     "metadata": {},
     "output_type": "execute_result"
    }
   ],
   "source": [
    "train_video_text.head()"
   ]
  },
  {
   "cell_type": "code",
   "execution_count": 19,
   "metadata": {},
   "outputs": [
    {
     "data": {
      "text/html": [
       "<div>\n",
       "<style scoped>\n",
       "    .dataframe tbody tr th:only-of-type {\n",
       "        vertical-align: middle;\n",
       "    }\n",
       "\n",
       "    .dataframe tbody tr th {\n",
       "        vertical-align: top;\n",
       "    }\n",
       "\n",
       "    .dataframe thead th {\n",
       "        text-align: right;\n",
       "    }\n",
       "</style>\n",
       "<table border=\"1\" class=\"dataframe\">\n",
       "  <thead>\n",
       "    <tr style=\"text-align: right;\">\n",
       "      <th></th>\n",
       "      <th>video_id</th>\n",
       "      <th>caption</th>\n",
       "    </tr>\n",
       "  </thead>\n",
       "  <tbody>\n",
       "    <tr>\n",
       "      <th>0</th>\n",
       "      <td>video7020</td>\n",
       "      <td>a woman creating a fondant baby and flower</td>\n",
       "    </tr>\n",
       "    <tr>\n",
       "      <th>1</th>\n",
       "      <td>video7021</td>\n",
       "      <td>baseball player hits ball</td>\n",
       "    </tr>\n",
       "    <tr>\n",
       "      <th>2</th>\n",
       "      <td>video7024</td>\n",
       "      <td>little pet shop cat getting a bath and washed ...</td>\n",
       "    </tr>\n",
       "    <tr>\n",
       "      <th>3</th>\n",
       "      <td>video7025</td>\n",
       "      <td>a naked child runs through a field</td>\n",
       "    </tr>\n",
       "    <tr>\n",
       "      <th>4</th>\n",
       "      <td>video7026</td>\n",
       "      <td>a man is giving a review on a vehicle</td>\n",
       "    </tr>\n",
       "  </tbody>\n",
       "</table>\n",
       "</div>"
      ],
      "text/plain": [
       "    video_id                                            caption\n",
       "0  video7020         a woman creating a fondant baby and flower\n",
       "1  video7021                          baseball player hits ball\n",
       "2  video7024  little pet shop cat getting a bath and washed ...\n",
       "3  video7025                 a naked child runs through a field\n",
       "4  video7026              a man is giving a review on a vehicle"
      ]
     },
     "execution_count": 19,
     "metadata": {},
     "output_type": "execute_result"
    }
   ],
   "source": [
    "test_video_text.head()"
   ]
  },
  {
   "cell_type": "code",
   "execution_count": 7,
   "metadata": {},
   "outputs": [
    {
     "data": {
      "text/plain": [
       "(1000, 2)"
      ]
     },
     "execution_count": 7,
     "metadata": {},
     "output_type": "execute_result"
    }
   ],
   "source": [
    "test_video_text.shape"
   ]
  },
  {
   "cell_type": "markdown",
   "metadata": {},
   "source": [
    "# Data Preprocessing"
   ]
  },
  {
   "cell_type": "markdown",
   "metadata": {},
   "source": [
    "## 1. Extract Emotional Data using Sentiment Analysis"
   ]
  },
  {
   "cell_type": "code",
   "execution_count": 8,
   "metadata": {},
   "outputs": [
    {
     "name": "stderr",
     "output_type": "stream",
     "text": [
      "[nltk_data] Downloading package vader_lexicon to\n",
      "[nltk_data]     /Users/ones/nltk_data...\n",
      "[nltk_data]   Package vader_lexicon is already up-to-date!\n"
     ]
    },
    {
     "data": {
      "text/plain": [
       "True"
      ]
     },
     "execution_count": 8,
     "metadata": {},
     "output_type": "execute_result"
    }
   ],
   "source": [
    "import nltk\n",
    "from nltk.sentiment import SentimentIntensityAnalyzer\n",
    "nltk.download('vader_lexicon')"
   ]
  },
  {
   "cell_type": "markdown",
   "metadata": {},
   "source": [
    "### Functions"
   ]
  },
  {
   "cell_type": "code",
   "execution_count": 9,
   "metadata": {},
   "outputs": [],
   "source": [
    "def extract_emotion_manually(df, text=None):\n",
    "    # assign the default text\n",
    "    if text is None:\n",
    "        text = \"happy|sad|afraid|fear|surprise|joy|disgust|annoy| anger|angry|\" \\\n",
    "                \"excite|excited|exciting|scare|scared|scary|fright|frighten|frightened|frightening\" \\\n",
    "                \"|fearful|fearless|fearfully\"\n",
    "    # extract the data that contains the text\n",
    "    manual_df = df[df['caption'].str.contains(text)]\n",
    "    print(\"Number of manually selecting data:\", len(manual_df))\n",
    "    return manual_df\n",
    "\n",
    "\n",
    "def extract_emotional_data(df, sent_bound=0.6, manual=False):\n",
    "    # Initialize SentimentIntensityAnalyzer\n",
    "    sia = SentimentIntensityAnalyzer()\n",
    "    emotion_df = pd.DataFrame()\n",
    "\n",
    "    # extract the emotional data using the sentiment analysis\n",
    "    for idx in tqdm(range(len(df))):\n",
    "        sentence = df.caption[idx]\n",
    "        # calculate the sentiment score\n",
    "        sentiment_score = sia.polarity_scores(sentence)\n",
    "        # determine the emotional data: compound score > 0.6 (positive) or < -0.6 (negative)\n",
    "        if sentiment_score['compound'] > sent_bound or sentiment_score['compound'] < -sent_bound:\n",
    "            emotion_df = pd.concat([emotion_df, df.iloc[idx:idx+1, :]])\n",
    "\n",
    "    print(\"Number of emotional data:\", len(emotion_df))\n",
    "\n",
    "    # extract the data that contains predefined emotion words\n",
    "    if manual:\n",
    "        manual_df  = extract_emotion_manually(df)\n",
    "        # extract the data that is not in the emotion_df\n",
    "        if \"sen_id\" in manual_df.columns:\n",
    "            only_manual_df = pd.merge(manual_df, emotion_df, on='sen_id', how='outer', indicator=True).query('_merge==\"left_only\"')\n",
    "            only_manual_df = only_manual_df.drop(columns=[\"caption_y\", \"video_id_y\", \"_merge\"]).rename(columns={\"caption_x\": \"caption\", \"video_id_x\": \"video_id\"})\n",
    "        else:\n",
    "            only_manual_df = pd.merge(manual_df, emotion_df, on='video_id', how='outer', indicator=True).query('_merge==\"left_only\"')\n",
    "            only_manual_df = only_manual_df.drop(columns=[\"caption_y\", \"_merge\"]).rename(columns={\"caption_x\": \"caption\"})\n",
    "        print(\"Number of data only in manual data:\", len(only_manual_df))\n",
    "        emotion_df = pd.concat([emotion_df, only_manual_df])\n",
    "        print(\"Toal number of emotional data:\", len(emotion_df))\n",
    "        return emotion_df\n",
    "\n",
    "    return emotion_df"
   ]
  },
  {
   "cell_type": "code",
   "execution_count": 12,
   "metadata": {},
   "outputs": [
    {
     "name": "stderr",
     "output_type": "stream",
     "text": [
      "  0%|          | 0/9000 [00:00<?, ?it/s]"
     ]
    },
    {
     "name": "stderr",
     "output_type": "stream",
     "text": [
      "100%|██████████| 9000/9000 [00:13<00:00, 654.20it/s]\n"
     ]
    },
    {
     "name": "stdout",
     "output_type": "stream",
     "text": [
      "Number of emotional data: 5984\n",
      "Number of manually selecting data: 1019\n",
      "Number of data only in manual data: 153\n",
      "Toal number of emotional data: 6137\n"
     ]
    },
    {
     "name": "stderr",
     "output_type": "stream",
     "text": [
      "100%|██████████| 1000/1000 [00:00<00:00, 7163.53it/s]"
     ]
    },
    {
     "name": "stdout",
     "output_type": "stream",
     "text": [
      "Number of emotional data: 29\n",
      "Number of manually selecting data: 7\n",
      "Number of data only in manual data: 5\n",
      "Toal number of emotional data: 34\n",
      "(6137, 2) (34, 2)\n"
     ]
    },
    {
     "name": "stderr",
     "output_type": "stream",
     "text": [
      "\n"
     ]
    }
   ],
   "source": [
    "# video\n",
    "train_df = extract_emotional_data(train_video_text, sent_bound=0.6, manual=True)\n",
    "emotion_test_df = extract_emotional_data(test_video_text, sent_bound=0.6, manual=True)\n",
    "print(train_df.shape, emotion_test_df.shape)"
   ]
  },
  {
   "cell_type": "code",
   "execution_count": 27,
   "metadata": {},
   "outputs": [
    {
     "data": {
      "text/html": [
       "<div>\n",
       "<style scoped>\n",
       "    .dataframe tbody tr th:only-of-type {\n",
       "        vertical-align: middle;\n",
       "    }\n",
       "\n",
       "    .dataframe tbody tr th {\n",
       "        vertical-align: top;\n",
       "    }\n",
       "\n",
       "    .dataframe thead th {\n",
       "        text-align: right;\n",
       "    }\n",
       "</style>\n",
       "<table border=\"1\" class=\"dataframe\">\n",
       "  <thead>\n",
       "    <tr style=\"text-align: right;\">\n",
       "      <th></th>\n",
       "      <th>video_id</th>\n",
       "      <th>caption</th>\n",
       "    </tr>\n",
       "  </thead>\n",
       "  <tbody>\n",
       "    <tr>\n",
       "      <th>15</th>\n",
       "      <td>video7112</td>\n",
       "      <td>while other friends too try and hitting the ba...</td>\n",
       "    </tr>\n",
       "    <tr>\n",
       "      <th>21</th>\n",
       "      <td>video7118</td>\n",
       "      <td>a young girl in a horror movie is haunted</td>\n",
       "    </tr>\n",
       "    <tr>\n",
       "      <th>66</th>\n",
       "      <td>video7200</td>\n",
       "      <td>a female soccer player accepts a reward while ...</td>\n",
       "    </tr>\n",
       "    <tr>\n",
       "      <th>80</th>\n",
       "      <td>video7216</td>\n",
       "      <td>a woman giving skin care tips</td>\n",
       "    </tr>\n",
       "    <tr>\n",
       "      <th>137</th>\n",
       "      <td>video7410</td>\n",
       "      <td>vladmir putin talks on the news about the figh...</td>\n",
       "    </tr>\n",
       "    <tr>\n",
       "      <th>...</th>\n",
       "      <td>...</td>\n",
       "      <td>...</td>\n",
       "    </tr>\n",
       "    <tr>\n",
       "      <th>791</th>\n",
       "      <td>video9323</td>\n",
       "      <td>it is the video of military men</td>\n",
       "    </tr>\n",
       "    <tr>\n",
       "      <th>802</th>\n",
       "      <td>video9334</td>\n",
       "      <td>in game footage of a mine craft character walk...</td>\n",
       "    </tr>\n",
       "    <tr>\n",
       "      <th>839</th>\n",
       "      <td>video9450</td>\n",
       "      <td>a foreign military themed show</td>\n",
       "    </tr>\n",
       "    <tr>\n",
       "      <th>160</th>\n",
       "      <td>video7500</td>\n",
       "      <td>a soccer team walking out on the field</td>\n",
       "    </tr>\n",
       "    <tr>\n",
       "      <th>129</th>\n",
       "      <td>video7371</td>\n",
       "      <td>a tv shows review program hosts discuss about ...</td>\n",
       "    </tr>\n",
       "  </tbody>\n",
       "</table>\n",
       "<p>68 rows × 2 columns</p>\n",
       "</div>"
      ],
      "text/plain": [
       "      video_id                                            caption\n",
       "15   video7112  while other friends too try and hitting the ba...\n",
       "21   video7118          a young girl in a horror movie is haunted\n",
       "66   video7200  a female soccer player accepts a reward while ...\n",
       "80   video7216                      a woman giving skin care tips\n",
       "137  video7410  vladmir putin talks on the news about the figh...\n",
       "..         ...                                                ...\n",
       "791  video9323                    it is the video of military men\n",
       "802  video9334  in game footage of a mine craft character walk...\n",
       "839  video9450                     a foreign military themed show\n",
       "160  video7500             a soccer team walking out on the field\n",
       "129  video7371  a tv shows review program hosts discuss about ...\n",
       "\n",
       "[68 rows x 2 columns]"
      ]
     },
     "execution_count": 27,
     "metadata": {},
     "output_type": "execute_result"
    }
   ],
   "source": [
    "num_emo_test = emotion_test_df.shape[0]\n",
    "no_emotion_test_df = test_video_text[~test_video_text.video_id.isin(emotion_test_df.video_id)].sample(num_emo_test)\n",
    "test_df = pd.concat([emotion_test_df, no_emotion_test_df])\n",
    "test_df"
   ]
  },
  {
   "cell_type": "code",
   "execution_count": 31,
   "metadata": {},
   "outputs": [
    {
     "data": {
      "text/html": [
       "<div>\n",
       "<style scoped>\n",
       "    .dataframe tbody tr th:only-of-type {\n",
       "        vertical-align: middle;\n",
       "    }\n",
       "\n",
       "    .dataframe tbody tr th {\n",
       "        vertical-align: top;\n",
       "    }\n",
       "\n",
       "    .dataframe thead th {\n",
       "        text-align: right;\n",
       "    }\n",
       "</style>\n",
       "<table border=\"1\" class=\"dataframe\">\n",
       "  <thead>\n",
       "    <tr style=\"text-align: right;\">\n",
       "      <th></th>\n",
       "      <th>video</th>\n",
       "      <th>caption</th>\n",
       "      <th>duration</th>\n",
       "    </tr>\n",
       "  </thead>\n",
       "  <tbody>\n",
       "    <tr>\n",
       "      <th>37</th>\n",
       "      <td>video7112.mp4</td>\n",
       "      <td>while other friends too try and hitting the ba...</td>\n",
       "      <td>18.35</td>\n",
       "    </tr>\n",
       "    <tr>\n",
       "      <th>31</th>\n",
       "      <td>video7118.mp4</td>\n",
       "      <td>a young girl in a horror movie is haunted</td>\n",
       "      <td>13.32</td>\n",
       "    </tr>\n",
       "    <tr>\n",
       "      <th>680</th>\n",
       "      <td>video7144.mp4</td>\n",
       "      <td>a group of women are rubbing oil and milk all ...</td>\n",
       "      <td>11.60</td>\n",
       "    </tr>\n",
       "    <tr>\n",
       "      <th>226</th>\n",
       "      <td>video7168.mp4</td>\n",
       "      <td>he is playing with ball</td>\n",
       "      <td>11.18</td>\n",
       "    </tr>\n",
       "    <tr>\n",
       "      <th>841</th>\n",
       "      <td>video7200.mp4</td>\n",
       "      <td>a female soccer player accepts a reward while ...</td>\n",
       "      <td>28.93</td>\n",
       "    </tr>\n",
       "    <tr>\n",
       "      <th>...</th>\n",
       "      <td>...</td>\n",
       "      <td>...</td>\n",
       "      <td>...</td>\n",
       "    </tr>\n",
       "    <tr>\n",
       "      <th>579</th>\n",
       "      <td>video9811.mp4</td>\n",
       "      <td>a group of actors sit in a control room and th...</td>\n",
       "      <td>20.44</td>\n",
       "    </tr>\n",
       "    <tr>\n",
       "      <th>584</th>\n",
       "      <td>video9814.mp4</td>\n",
       "      <td>a scene from spongebob squarepants where the t...</td>\n",
       "      <td>11.80</td>\n",
       "    </tr>\n",
       "    <tr>\n",
       "      <th>586</th>\n",
       "      <td>video9816.mp4</td>\n",
       "      <td>a little girl talking to her and is scared</td>\n",
       "      <td>13.35</td>\n",
       "    </tr>\n",
       "    <tr>\n",
       "      <th>349</th>\n",
       "      <td>video9825.mp4</td>\n",
       "      <td>an intelligent man with glasses talk about cer...</td>\n",
       "      <td>18.81</td>\n",
       "    </tr>\n",
       "    <tr>\n",
       "      <th>122</th>\n",
       "      <td>video9837.mp4</td>\n",
       "      <td>video game footage of a killing spree during c...</td>\n",
       "      <td>11.95</td>\n",
       "    </tr>\n",
       "  </tbody>\n",
       "</table>\n",
       "<p>68 rows × 3 columns</p>\n",
       "</div>"
      ],
      "text/plain": [
       "             video                                            caption  \\\n",
       "37   video7112.mp4  while other friends too try and hitting the ba...   \n",
       "31   video7118.mp4          a young girl in a horror movie is haunted   \n",
       "680  video7144.mp4  a group of women are rubbing oil and milk all ...   \n",
       "226  video7168.mp4                            he is playing with ball   \n",
       "841  video7200.mp4  a female soccer player accepts a reward while ...   \n",
       "..             ...                                                ...   \n",
       "579  video9811.mp4  a group of actors sit in a control room and th...   \n",
       "584  video9814.mp4  a scene from spongebob squarepants where the t...   \n",
       "586  video9816.mp4         a little girl talking to her and is scared   \n",
       "349  video9825.mp4  an intelligent man with glasses talk about cer...   \n",
       "122  video9837.mp4  video game footage of a killing spree during c...   \n",
       "\n",
       "     duration  \n",
       "37      18.35  \n",
       "31      13.32  \n",
       "680     11.60  \n",
       "226     11.18  \n",
       "841     28.93  \n",
       "..        ...  \n",
       "579     20.44  \n",
       "584     11.80  \n",
       "586     13.35  \n",
       "349     18.81  \n",
       "122     11.95  \n",
       "\n",
       "[68 rows x 3 columns]"
      ]
     },
     "execution_count": 31,
     "metadata": {},
     "output_type": "execute_result"
    }
   ],
   "source": [
    "emotion_test = test1k[test1k.video_id.isin(test_df.video_id)].loc[:, ['video', 'caption', 'duration']]\n",
    "emotion_test.sort_values(by='video', inplace=True)\n",
    "emotion_test"
   ]
  },
  {
   "cell_type": "markdown",
   "metadata": {},
   "source": [
    "* save the data"
   ]
  },
  {
   "cell_type": "code",
   "execution_count": 34,
   "metadata": {},
   "outputs": [],
   "source": [
    "# save data to json and csv\n",
    "emotion_test.to_json('emotion_test_df.json', orient='records', lines=False)\n",
    "emotion_test.to_csv('emotion_test_df.csv', index=False)"
   ]
  },
  {
   "cell_type": "markdown",
   "metadata": {},
   "source": [
    "* check the score"
   ]
  },
  {
   "cell_type": "code",
   "execution_count": 35,
   "metadata": {},
   "outputs": [
    {
     "name": "stdout",
     "output_type": "stream",
     "text": [
      "while other friends too try and hitting the basket another is eager to achieve his fourth successful basket in basketball\n",
      "{'neg': 0.0, 'neu': 0.644, 'pos': 0.356, 'compound': 0.8555}\n",
      "\n",
      "a young girl in a horror movie is haunted\n",
      "{'neg': 0.576, 'neu': 0.424, 'pos': 0.0, 'compound': -0.7783}\n",
      "\n",
      "a group of women are rubbing oil and milk all over a woman\n",
      "{'neg': 0.0, 'neu': 1.0, 'pos': 0.0, 'compound': 0.0}\n",
      "\n",
      "he is playing with ball\n",
      "{'neg': 0.0, 'neu': 0.69, 'pos': 0.31, 'compound': 0.2023}\n",
      "\n",
      "a female soccer player accepts a reward while being cheered on by the crowd\n",
      "{'neg': 0.0, 'neu': 0.492, 'pos': 0.508, 'compound': 0.8519}\n",
      "\n",
      "a woman giving skin care tips\n",
      "{'neg': 0.0, 'neu': 0.349, 'pos': 0.651, 'compound': 0.6808}\n",
      "\n",
      "a tv shows review program hosts discuss about the performance and staying on air of star trek\n",
      "{'neg': 0.0, 'neu': 1.0, 'pos': 0.0, 'compound': 0.0}\n",
      "\n",
      "vladmir putin talks on the news about the fight against terrorism\n",
      "{'neg': 0.444, 'neu': 0.556, 'pos': 0.0, 'compound': -0.802}\n",
      "\n",
      "jolly good music troop delivering a program and the lady is in good spirit\n",
      "{'neg': 0.0, 'neu': 0.455, 'pos': 0.545, 'compound': 0.8689}\n",
      "\n",
      "a soccer team walking out on the field\n",
      "{'neg': 0.0, 'neu': 1.0, 'pos': 0.0, 'compound': 0.0}\n",
      "\n",
      "a boy gets out of a play police car and talks to a girl\n",
      "{'neg': 0.0, 'neu': 0.806, 'pos': 0.194, 'compound': 0.34}\n",
      "\n"
     ]
    }
   ],
   "source": [
    "# sentiment score\n",
    "sia = SentimentIntensityAnalyzer()\n",
    "\n",
    "count = 0\n",
    "for text in emotion_test.caption:\n",
    "    if count > 10:\n",
    "        break\n",
    "    print(text)\n",
    "    print(sia.polarity_scores(text))\n",
    "    print()\n",
    "    count += 1"
   ]
  },
  {
   "cell_type": "markdown",
   "metadata": {},
   "source": [
    "# 2. Assign Specific Emotion"
   ]
  },
  {
   "cell_type": "code",
   "execution_count": 32,
   "metadata": {},
   "outputs": [],
   "source": [
    "from nrclex import NRCLex\n",
    "\n",
    "\n",
    "emostion_list = [\n",
    "    \"joy\",\n",
    "    \"trust\",\n",
    "    \"fear\",\n",
    "    \"surprise\",\n",
    "    \"sadness\",\n",
    "    \"disgust\",\n",
    "    \"anger\",\n",
    "    \"anticipation\"\n",
    "]\n"
   ]
  },
  {
   "cell_type": "markdown",
   "metadata": {},
   "source": [
    "### Functions"
   ]
  },
  {
   "cell_type": "code",
   "execution_count": 33,
   "metadata": {},
   "outputs": [],
   "source": [
    "def create_sentiment_columns(df):\n",
    "    \"\"\" Create sentiment columns using NRC lexicon\n",
    "        : positive, negative, neutral\n",
    "    \"\"\"\n",
    "    df = df.reset_index(drop=True)\n",
    "    for idx in tqdm(range(df.shape[0])):\n",
    "        emotion_counts = NRCLex(df.caption.iloc[idx]).raw_emotion_scores\n",
    "        # positive case\n",
    "        if 'positive' in emotion_counts.keys():\n",
    "            df.loc[idx, 'positive'] = emotion_counts['positive']\n",
    "        # negative case\n",
    "        if 'negative' in emotion_counts.keys():\n",
    "            df.loc[idx, 'negative'] = emotion_counts['negative']\n",
    "        # neutral case\n",
    "        if 'positive' not in emotion_counts.keys() and 'negative' not in emotion_counts.keys():\n",
    "            df.loc[idx, 'neutral'] = 1\n",
    "\n",
    "    df.fillna({'positive': 0, 'negative': 0, 'neutral': 0}, inplace=True)\n",
    "    return df\n",
    "\n",
    "def create_emotion_columns(df):\n",
    "    \"\"\" Create emotion columns using NRC lexicon\n",
    "        : anger, anticipation, disgust, fear, joy, sadness, surprise, trust\n",
    "    \"\"\"\n",
    "    df = df.reset_index(drop=True)\n",
    "    for idx in tqdm(range(df.shape[0])):\n",
    "        emotion_counts = NRCLex(df.caption.iloc[idx]).raw_emotion_scores\n",
    "        # create the emotion columns\n",
    "        for emo in emostion_list:\n",
    "            if emo in emotion_counts.keys():\n",
    "                df.loc[idx, emo] = emotion_counts[emo]\n",
    "\n",
    "    df.fillna({emo: 0 for emo in emostion_list}, inplace=True)\n",
    "    return df"
   ]
  },
  {
   "cell_type": "code",
   "execution_count": 39,
   "metadata": {},
   "outputs": [
    {
     "data": {
      "text/html": [
       "<div>\n",
       "<style scoped>\n",
       "    .dataframe tbody tr th:only-of-type {\n",
       "        vertical-align: middle;\n",
       "    }\n",
       "\n",
       "    .dataframe tbody tr th {\n",
       "        vertical-align: top;\n",
       "    }\n",
       "\n",
       "    .dataframe thead th {\n",
       "        text-align: right;\n",
       "    }\n",
       "</style>\n",
       "<table border=\"1\" class=\"dataframe\">\n",
       "  <thead>\n",
       "    <tr style=\"text-align: right;\">\n",
       "      <th></th>\n",
       "      <th>video</th>\n",
       "      <th>caption</th>\n",
       "      <th>duration</th>\n",
       "      <th>video_id</th>\n",
       "    </tr>\n",
       "  </thead>\n",
       "  <tbody>\n",
       "    <tr>\n",
       "      <th>0</th>\n",
       "      <td>video7112.mp4</td>\n",
       "      <td>while other friends too try and hitting the ba...</td>\n",
       "      <td>18.35</td>\n",
       "      <td>video7112</td>\n",
       "    </tr>\n",
       "    <tr>\n",
       "      <th>1</th>\n",
       "      <td>video7118.mp4</td>\n",
       "      <td>a young girl in a horror movie is haunted</td>\n",
       "      <td>13.32</td>\n",
       "      <td>video7118</td>\n",
       "    </tr>\n",
       "    <tr>\n",
       "      <th>2</th>\n",
       "      <td>video7144.mp4</td>\n",
       "      <td>a group of women are rubbing oil and milk all ...</td>\n",
       "      <td>11.60</td>\n",
       "      <td>video7144</td>\n",
       "    </tr>\n",
       "    <tr>\n",
       "      <th>3</th>\n",
       "      <td>video7168.mp4</td>\n",
       "      <td>he is playing with ball</td>\n",
       "      <td>11.18</td>\n",
       "      <td>video7168</td>\n",
       "    </tr>\n",
       "    <tr>\n",
       "      <th>4</th>\n",
       "      <td>video7200.mp4</td>\n",
       "      <td>a female soccer player accepts a reward while ...</td>\n",
       "      <td>28.93</td>\n",
       "      <td>video7200</td>\n",
       "    </tr>\n",
       "  </tbody>\n",
       "</table>\n",
       "</div>"
      ],
      "text/plain": [
       "           video                                            caption  duration  \\\n",
       "0  video7112.mp4  while other friends too try and hitting the ba...     18.35   \n",
       "1  video7118.mp4          a young girl in a horror movie is haunted     13.32   \n",
       "2  video7144.mp4  a group of women are rubbing oil and milk all ...     11.60   \n",
       "3  video7168.mp4                            he is playing with ball     11.18   \n",
       "4  video7200.mp4  a female soccer player accepts a reward while ...     28.93   \n",
       "\n",
       "    video_id  \n",
       "0  video7112  \n",
       "1  video7118  \n",
       "2  video7144  \n",
       "3  video7168  \n",
       "4  video7200  "
      ]
     },
     "execution_count": 39,
     "metadata": {},
     "output_type": "execute_result"
    }
   ],
   "source": [
    "emotion_test_df = pd.read_csv(\"emotion_test_df.csv\")\n",
    "emotion_test_df['video_id'] = emotion_test_df.video.apply(lambda x: x.split('.')[0])\n",
    "emotion_test_df.head()"
   ]
  },
  {
   "cell_type": "code",
   "execution_count": 40,
   "metadata": {},
   "outputs": [
    {
     "name": "stderr",
     "output_type": "stream",
     "text": [
      "  0%|          | 0/68 [00:00<?, ?it/s]"
     ]
    },
    {
     "name": "stderr",
     "output_type": "stream",
     "text": [
      "100%|██████████| 68/68 [00:00<00:00, 627.98it/s]\n"
     ]
    }
   ],
   "source": [
    "# create the sentiment columns\n",
    "emotion_test_df = create_sentiment_columns(emotion_test_df)"
   ]
  },
  {
   "cell_type": "code",
   "execution_count": 41,
   "metadata": {},
   "outputs": [
    {
     "name": "stderr",
     "output_type": "stream",
     "text": [
      "100%|██████████| 68/68 [00:00<00:00, 705.94it/s]\n"
     ]
    }
   ],
   "source": [
    "# create the emotion columns\n",
    "emotion_test_df = create_emotion_columns(emotion_test_df)"
   ]
  },
  {
   "cell_type": "code",
   "execution_count": 43,
   "metadata": {},
   "outputs": [
    {
     "data": {
      "text/html": [
       "<div>\n",
       "<style scoped>\n",
       "    .dataframe tbody tr th:only-of-type {\n",
       "        vertical-align: middle;\n",
       "    }\n",
       "\n",
       "    .dataframe tbody tr th {\n",
       "        vertical-align: top;\n",
       "    }\n",
       "\n",
       "    .dataframe thead th {\n",
       "        text-align: right;\n",
       "    }\n",
       "</style>\n",
       "<table border=\"1\" class=\"dataframe\">\n",
       "  <thead>\n",
       "    <tr style=\"text-align: right;\">\n",
       "      <th></th>\n",
       "      <th>video</th>\n",
       "      <th>caption</th>\n",
       "      <th>duration</th>\n",
       "      <th>video_id</th>\n",
       "      <th>positive</th>\n",
       "      <th>negative</th>\n",
       "      <th>neutral</th>\n",
       "      <th>joy</th>\n",
       "      <th>trust</th>\n",
       "      <th>surprise</th>\n",
       "      <th>anticipation</th>\n",
       "      <th>fear</th>\n",
       "      <th>sadness</th>\n",
       "      <th>disgust</th>\n",
       "      <th>anger</th>\n",
       "    </tr>\n",
       "  </thead>\n",
       "  <tbody>\n",
       "    <tr>\n",
       "      <th>0</th>\n",
       "      <td>video7112.mp4</td>\n",
       "      <td>while other friends too try and hitting the ba...</td>\n",
       "      <td>18.35</td>\n",
       "      <td>video7112</td>\n",
       "      <td>4.0</td>\n",
       "      <td>0.0</td>\n",
       "      <td>0.0</td>\n",
       "      <td>4.0</td>\n",
       "      <td>3.0</td>\n",
       "      <td>1.0</td>\n",
       "      <td>3.0</td>\n",
       "      <td>0.0</td>\n",
       "      <td>0.0</td>\n",
       "      <td>0.0</td>\n",
       "      <td>0.0</td>\n",
       "    </tr>\n",
       "    <tr>\n",
       "      <th>1</th>\n",
       "      <td>video7118.mp4</td>\n",
       "      <td>a young girl in a horror movie is haunted</td>\n",
       "      <td>13.32</td>\n",
       "      <td>video7118</td>\n",
       "      <td>1.0</td>\n",
       "      <td>2.0</td>\n",
       "      <td>0.0</td>\n",
       "      <td>1.0</td>\n",
       "      <td>0.0</td>\n",
       "      <td>2.0</td>\n",
       "      <td>1.0</td>\n",
       "      <td>2.0</td>\n",
       "      <td>2.0</td>\n",
       "      <td>1.0</td>\n",
       "      <td>1.0</td>\n",
       "    </tr>\n",
       "    <tr>\n",
       "      <th>2</th>\n",
       "      <td>video7144.mp4</td>\n",
       "      <td>a group of women are rubbing oil and milk all ...</td>\n",
       "      <td>11.60</td>\n",
       "      <td>video7144</td>\n",
       "      <td>0.0</td>\n",
       "      <td>0.0</td>\n",
       "      <td>1.0</td>\n",
       "      <td>0.0</td>\n",
       "      <td>0.0</td>\n",
       "      <td>0.0</td>\n",
       "      <td>0.0</td>\n",
       "      <td>0.0</td>\n",
       "      <td>0.0</td>\n",
       "      <td>0.0</td>\n",
       "      <td>0.0</td>\n",
       "    </tr>\n",
       "    <tr>\n",
       "      <th>3</th>\n",
       "      <td>video7168.mp4</td>\n",
       "      <td>he is playing with ball</td>\n",
       "      <td>11.18</td>\n",
       "      <td>video7168</td>\n",
       "      <td>0.0</td>\n",
       "      <td>0.0</td>\n",
       "      <td>1.0</td>\n",
       "      <td>0.0</td>\n",
       "      <td>0.0</td>\n",
       "      <td>0.0</td>\n",
       "      <td>0.0</td>\n",
       "      <td>0.0</td>\n",
       "      <td>0.0</td>\n",
       "      <td>0.0</td>\n",
       "      <td>0.0</td>\n",
       "    </tr>\n",
       "    <tr>\n",
       "      <th>4</th>\n",
       "      <td>video7200.mp4</td>\n",
       "      <td>a female soccer player accepts a reward while ...</td>\n",
       "      <td>28.93</td>\n",
       "      <td>video7200</td>\n",
       "      <td>2.0</td>\n",
       "      <td>1.0</td>\n",
       "      <td>0.0</td>\n",
       "      <td>1.0</td>\n",
       "      <td>1.0</td>\n",
       "      <td>1.0</td>\n",
       "      <td>1.0</td>\n",
       "      <td>0.0</td>\n",
       "      <td>0.0</td>\n",
       "      <td>0.0</td>\n",
       "      <td>0.0</td>\n",
       "    </tr>\n",
       "  </tbody>\n",
       "</table>\n",
       "</div>"
      ],
      "text/plain": [
       "           video                                            caption  duration  \\\n",
       "0  video7112.mp4  while other friends too try and hitting the ba...     18.35   \n",
       "1  video7118.mp4          a young girl in a horror movie is haunted     13.32   \n",
       "2  video7144.mp4  a group of women are rubbing oil and milk all ...     11.60   \n",
       "3  video7168.mp4                            he is playing with ball     11.18   \n",
       "4  video7200.mp4  a female soccer player accepts a reward while ...     28.93   \n",
       "\n",
       "    video_id  positive  negative  neutral  joy  trust  surprise  anticipation  \\\n",
       "0  video7112       4.0       0.0      0.0  4.0    3.0       1.0           3.0   \n",
       "1  video7118       1.0       2.0      0.0  1.0    0.0       2.0           1.0   \n",
       "2  video7144       0.0       0.0      1.0  0.0    0.0       0.0           0.0   \n",
       "3  video7168       0.0       0.0      1.0  0.0    0.0       0.0           0.0   \n",
       "4  video7200       2.0       1.0      0.0  1.0    1.0       1.0           1.0   \n",
       "\n",
       "   fear  sadness  disgust  anger  \n",
       "0   0.0      0.0      0.0    0.0  \n",
       "1   2.0      2.0      1.0    1.0  \n",
       "2   0.0      0.0      0.0    0.0  \n",
       "3   0.0      0.0      0.0    0.0  \n",
       "4   0.0      0.0      0.0    0.0  "
      ]
     },
     "execution_count": 43,
     "metadata": {},
     "output_type": "execute_result"
    }
   ],
   "source": [
    "emotion_test_df.head()"
   ]
  },
  {
   "cell_type": "code",
   "execution_count": 44,
   "metadata": {},
   "outputs": [],
   "source": [
    "emotion_test_df.to_csv('emotion_test_df.csv', index=False)\n",
    "emotion_test_df.to_json('emotion_test_df.json', orient='records', lines=False)"
   ]
  },
  {
   "cell_type": "code",
   "execution_count": 45,
   "metadata": {},
   "outputs": [],
   "source": [
    "with open('emotion_test_df.json', 'r') as f:\n",
    "    emotion_test_json = json.load(f)"
   ]
  }
 ],
 "metadata": {
  "kernelspec": {
   "display_name": "yolov7",
   "language": "python",
   "name": "python3"
  },
  "language_info": {
   "codemirror_mode": {
    "name": "ipython",
    "version": 3
   },
   "file_extension": ".py",
   "mimetype": "text/x-python",
   "name": "python",
   "nbconvert_exporter": "python",
   "pygments_lexer": "ipython3",
   "version": "3.12.2"
  }
 },
 "nbformat": 4,
 "nbformat_minor": 2
}
